{
 "cells": [
  {
   "cell_type": "code",
   "execution_count": 26,
   "id": "020be2ac",
   "metadata": {},
   "outputs": [
    {
     "data": {
      "text/plain": [
       "array([12, 28,  7, 50,  3,  4,  4, 13, 49, 23])"
      ]
     },
     "execution_count": 26,
     "metadata": {},
     "output_type": "execute_result"
    }
   ],
   "source": [
    "# seed function --> randomly generate hone wali values ko fix krta hai \n",
    "import numpy as np\n",
    "np.random.seed(12)\n",
    "np.random.randint(1,51,10)\n",
    "# seed(12) kr k kisi bhi system main kitni bhi baar 12 do ayega yehi!\n",
    "\n"
   ]
  }
 ],
 "metadata": {
  "kernelspec": {
   "display_name": "Python 3 (ipykernel)",
   "language": "python",
   "name": "python3"
  },
  "language_info": {
   "codemirror_mode": {
    "name": "ipython",
    "version": 3
   },
   "file_extension": ".py",
   "mimetype": "text/x-python",
   "name": "python",
   "nbconvert_exporter": "python",
   "pygments_lexer": "ipython3",
   "version": "3.9.7"
  }
 },
 "nbformat": 4,
 "nbformat_minor": 5
}
