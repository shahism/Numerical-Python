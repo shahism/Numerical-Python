{
 "cells": [
  {
   "cell_type": "code",
   "execution_count": 2,
   "id": "041180a2",
   "metadata": {},
   "outputs": [
    {
     "data": {
      "text/plain": [
       "array([ 2,  4,  6,  8, 10])"
      ]
     },
     "execution_count": 2,
     "metadata": {},
     "output_type": "execute_result"
    }
   ],
   "source": [
    "import numpy as np\n",
    "a = np.array([1,2,3,4,5])\n",
    "a*2 #multiply each element with 2"
   ]
  },
  {
   "cell_type": "code",
   "execution_count": 3,
   "id": "26bd2eed",
   "metadata": {},
   "outputs": [
    {
     "data": {
      "text/plain": [
       "array([3, 4, 5, 6, 7])"
      ]
     },
     "execution_count": 3,
     "metadata": {},
     "output_type": "execute_result"
    }
   ],
   "source": [
    "import numpy as np\n",
    "a = np.array([1,2,3,4,5])\n",
    "a+2 #add each element with 2"
   ]
  },
  {
   "cell_type": "code",
   "execution_count": 5,
   "id": "7202ed20",
   "metadata": {},
   "outputs": [
    {
     "data": {
      "text/plain": [
       "array([0.5, 1. , 1.5, 2. , 2.5])"
      ]
     },
     "execution_count": 5,
     "metadata": {},
     "output_type": "execute_result"
    }
   ],
   "source": [
    "import numpy as np\n",
    "a = np.array([1,2,3,4,5])\n",
    "a/2 #divide each element with 2"
   ]
  },
  {
   "cell_type": "code",
   "execution_count": 6,
   "id": "20133058",
   "metadata": {},
   "outputs": [
    {
     "data": {
      "text/plain": [
       "array([ 1,  4,  9, 16, 25], dtype=int32)"
      ]
     },
     "execution_count": 6,
     "metadata": {},
     "output_type": "execute_result"
    }
   ],
   "source": [
    "import numpy as np\n",
    "a = np.array([1,2,3,4,5])\n",
    "a**2 #take square of each element"
   ]
  },
  {
   "cell_type": "code",
   "execution_count": 7,
   "id": "996e5bb7",
   "metadata": {},
   "outputs": [
    {
     "data": {
      "text/plain": [
       "array([  1,   8,  27,  64, 125], dtype=int32)"
      ]
     },
     "execution_count": 7,
     "metadata": {},
     "output_type": "execute_result"
    }
   ],
   "source": [
    "import numpy as np\n",
    "a = np.array([1,2,3,4,5])\n",
    "a**3 #take cube of each element"
   ]
  },
  {
   "cell_type": "code",
   "execution_count": 9,
   "id": "da0ffa8c",
   "metadata": {},
   "outputs": [
    {
     "name": "stderr",
     "output_type": "stream",
     "text": [
      "C:\\Users\\H\\AppData\\Local\\Temp/ipykernel_13868/1928165452.py:3: RuntimeWarning: divide by zero encountered in true_divide\n",
      "  a/0 #division by zero is not error but infinity\n",
      "C:\\Users\\H\\AppData\\Local\\Temp/ipykernel_13868/1928165452.py:3: RuntimeWarning: invalid value encountered in true_divide\n",
      "  a/0 #division by zero is not error but infinity\n"
     ]
    },
    {
     "data": {
      "text/plain": [
       "array([inf, inf, inf, inf, nan])"
      ]
     },
     "execution_count": 9,
     "metadata": {},
     "output_type": "execute_result"
    }
   ],
   "source": [
    "import numpy as np\n",
    "a = np.array([1,2,3,4,0])\n",
    "a/0 #division by zero is not error but infinity"
   ]
  },
  {
   "cell_type": "code",
   "execution_count": null,
   "id": "45d008b6",
   "metadata": {},
   "outputs": [],
   "source": []
  }
 ],
 "metadata": {
  "kernelspec": {
   "display_name": "Python 3 (ipykernel)",
   "language": "python",
   "name": "python3"
  },
  "language_info": {
   "codemirror_mode": {
    "name": "ipython",
    "version": 3
   },
   "file_extension": ".py",
   "mimetype": "text/x-python",
   "name": "python",
   "nbconvert_exporter": "python",
   "pygments_lexer": "ipython3",
   "version": "3.9.7"
  }
 },
 "nbformat": 4,
 "nbformat_minor": 5
}
