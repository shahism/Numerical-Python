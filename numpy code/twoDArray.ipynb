{
 "cells": [
  {
   "cell_type": "code",
   "execution_count": 4,
   "id": "712c9120",
   "metadata": {},
   "outputs": [
    {
     "name": "stdout",
     "output_type": "stream",
     "text": [
      "Enter the rows 3\n",
      "Enter the columns 3\n",
      "Enter the number 1\n",
      "Enter the number 2\n",
      "Enter the number 3\n",
      "Enter the number 4\n",
      "Enter the number 5\n",
      "Enter the number 6\n",
      "Enter the number 7\n",
      "Enter the number 8\n",
      "Enter the number 9\n"
     ]
    },
    {
     "data": {
      "text/plain": [
       "array([[1, 2, 3],\n",
       "       [4, 5, 6],\n",
       "       [7, 8, 9]])"
      ]
     },
     "execution_count": 4,
     "metadata": {},
     "output_type": "execute_result"
    }
   ],
   "source": [
    "import numpy as np\n",
    "row = int(input(\"Enter the rows \"))\n",
    "column = int(input(\"Enter the columns \"))\n",
    "# coming from java it is different from python\n",
    "\n",
    "Matrix = []\n",
    "\n",
    "for i in range(row):\n",
    "    a = []\n",
    "    for j in range(column):\n",
    "        val = int(input(\"Enter the number \"))\n",
    "        a.append(val)\n",
    "    Matrix.append(a)    \n",
    "    \n",
    "myArr = np.array(Matrix)    \n",
    "        \n",
    "myArr\n",
    "\n",
    "        \n",
    "\n",
    "\n"
   ]
  },
  {
   "cell_type": "code",
   "execution_count": 13,
   "id": "2f351c59",
   "metadata": {},
   "outputs": [
    {
     "data": {
      "text/plain": [
       "array([[5, 6],\n",
       "       [8, 9]])"
      ]
     },
     "execution_count": 13,
     "metadata": {},
     "output_type": "execute_result"
    }
   ],
   "source": [
    "import numpy as np\n",
    "arr = np.array([[1,2,3]\n",
    "               ,[4,5,6],\n",
    "                [7,8,9]])\n",
    "newArr = arr[0,:] #syntax to learn   arr[rowStarting:rowEnding+1:steps , columnStarting:columnEnding+1:steps]\n",
    "# from this basic of slicing you can slice any part of the array \n",
    "newArr = arr[:,2]\n",
    "# jo khali dia houta hai usme sb lelia jaata hai by default\n",
    "\n",
    "\n",
    "\n",
    "# here a challenge i have to slice the 5 from the above array \n",
    "newArr = arr[1:2,1:2]\n",
    "#now i have to slice 5,6,8,9\n",
    "newArr = arr[1:3,1:3]\n",
    "newArr\n"
   ]
  }
 ],
 "metadata": {
  "kernelspec": {
   "display_name": "Python 3 (ipykernel)",
   "language": "python",
   "name": "python3"
  },
  "language_info": {
   "codemirror_mode": {
    "name": "ipython",
    "version": 3
   },
   "file_extension": ".py",
   "mimetype": "text/x-python",
   "name": "python",
   "nbconvert_exporter": "python",
   "pygments_lexer": "ipython3",
   "version": "3.9.7"
  }
 },
 "nbformat": 4,
 "nbformat_minor": 5
}
