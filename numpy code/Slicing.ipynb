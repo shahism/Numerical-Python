{
 "cells": [
  {
   "cell_type": "code",
   "execution_count": 3,
   "id": "b0ef1919",
   "metadata": {},
   "outputs": [
    {
     "name": "stdout",
     "output_type": "stream",
     "text": [
      "Enter the size of array5\n",
      "Enter number :1\n",
      "Enter number :2\n",
      "Enter number :3\n",
      "Enter number :4\n",
      "Enter number :5\n"
     ]
    },
    {
     "data": {
      "text/plain": [
       "array([3, 4])"
      ]
     },
     "execution_count": 3,
     "metadata": {},
     "output_type": "execute_result"
    }
   ],
   "source": [
    "import numpy as np\n",
    "a = []\n",
    "size = int(input(\"Enter the size of array\"))\n",
    "for i in range(size):\n",
    "    val = int(input(\"Enter number :\"))\n",
    "    a.append(val)\n",
    "myArr = np.array(a)\n",
    "myArr2 = myArr[2:4]\n",
    "myArr2"
   ]
  },
  {
   "cell_type": "code",
   "execution_count": 4,
   "id": "b3da785c",
   "metadata": {},
   "outputs": [
    {
     "name": "stdout",
     "output_type": "stream",
     "text": [
      "Enter the size of array5\n",
      "Enter elements in your array1\n",
      "Enter elements in your array2\n",
      "Enter elements in your array3\n",
      "Enter elements in your array4\n",
      "Enter elements in your array5\n"
     ]
    },
    {
     "data": {
      "text/plain": [
       "[array(1), array(2), array(3), array(4), array(5)]"
      ]
     },
     "execution_count": 4,
     "metadata": {},
     "output_type": "execute_result"
    }
   ],
   "source": [
    "#indexing can be negative as in the case of python lists\n",
    "import numpy as np\n",
    "a = []\n",
    "size = int(input(\"Enter the size of array\"))\n",
    "for i in range(size):\n",
    "    val = np.array(int(input(\"Enter elements in your array\"))) #yun krne se output har element k liay aik alag array aata hai\n",
    "    a.append(val)\n",
    "    #[array(1), array(2), array(3), array(4), array(5)]\n",
    "    \n",
    "a    "
   ]
  },
  {
   "cell_type": "code",
   "execution_count": 7,
   "id": "8258bfa2",
   "metadata": {},
   "outputs": [
    {
     "name": "stdout",
     "output_type": "stream",
     "text": [
      "Enter the size of array5\n",
      "Enter number :1\n",
      "Enter number :2\n",
      "Enter number :3\n",
      "Enter number :4\n",
      "Enter number :5\n"
     ]
    }
   ],
   "source": [
    "import numpy as np\n",
    "a = []\n",
    "size = int(input(\"Enter the size of array\"))\n",
    "for i in range(size):\n",
    "    val = int(input(\"Enter number :\"))\n",
    "    a.append(val)\n",
    "myArr = np.array(a)\n",
    "myArr2 = myArr[-1:-5]\n",
    "for i in range (myArr2.size):\n",
    "    print(myArr2[i])"
   ]
  }
 ],
 "metadata": {
  "kernelspec": {
   "display_name": "Python 3 (ipykernel)",
   "language": "python",
   "name": "python3"
  },
  "language_info": {
   "codemirror_mode": {
    "name": "ipython",
    "version": 3
   },
   "file_extension": ".py",
   "mimetype": "text/x-python",
   "name": "python",
   "nbconvert_exporter": "python",
   "pygments_lexer": "ipython3",
   "version": "3.9.7"
  }
 },
 "nbformat": 4,
 "nbformat_minor": 5
}
