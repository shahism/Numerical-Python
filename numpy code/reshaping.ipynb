{
 "cells": [
  {
   "cell_type": "code",
   "execution_count": 14,
   "id": "c9a780ae",
   "metadata": {},
   "outputs": [
    {
     "data": {
      "text/plain": [
       "array([[[11,  1],\n",
       "        [44, 21],\n",
       "        [26, 17]],\n",
       "\n",
       "       [[40, 23],\n",
       "        [21, 12],\n",
       "        [19, 14]]])"
      ]
     },
     "execution_count": 14,
     "metadata": {},
     "output_type": "execute_result"
    }
   ],
   "source": [
    "import numpy as np\n",
    "a = np.random.randint(1,51,12)\n",
    "a.shape #it will print the shape\n",
    "# a = np.random.rand(2,3)\n",
    "# a.shape will print (2,3)\n",
    "# reshaping jo hai wo 1D array se 2D aur 2D se 1D main jaanay ka naam hai\n",
    "# a.reshape(2,3) #error dega as reshaping main jo args dene hain unka multiplication same hona chahiay shape se \n",
    "# 2*3 = 6 hai 123 nhi error ayega \n",
    "\n",
    "a.reshape(2,6)\n",
    "a.reshape(6,2)\n",
    "a.reshape(3,4)\n",
    "a.reshape(4,3)\n",
    "\n",
    "# all are valid\n",
    "\n",
    "# now we will go from a Matrix (2D array) to Vector (1D Array)\n",
    "\n",
    "a.reshape(12)\n",
    "\n",
    "# now we will go from a Vector(1D array ) to a Tensor(3D array)\n",
    "a.reshape(2,3,2)\n",
    "\n"
   ]
  },
  {
   "cell_type": "code",
   "execution_count": 18,
   "id": "91c0fde5",
   "metadata": {},
   "outputs": [
    {
     "ename": "ValueError",
     "evalue": "cannot reshape array of size 12 into shape (5)",
     "output_type": "error",
     "traceback": [
      "\u001b[1;31m---------------------------------------------------------------------------\u001b[0m",
      "\u001b[1;31mValueError\u001b[0m                                Traceback (most recent call last)",
      "\u001b[1;32m~\\AppData\\Local\\Temp/ipykernel_9892/1414261247.py\u001b[0m in \u001b[0;36m<module>\u001b[1;34m\u001b[0m\n\u001b[0;32m      2\u001b[0m \u001b[0ma\u001b[0m \u001b[1;33m=\u001b[0m \u001b[0mnp\u001b[0m\u001b[1;33m.\u001b[0m\u001b[0mrandom\u001b[0m\u001b[1;33m.\u001b[0m\u001b[0mrandint\u001b[0m\u001b[1;33m(\u001b[0m\u001b[1;36m1\u001b[0m\u001b[1;33m,\u001b[0m\u001b[1;36m51\u001b[0m\u001b[1;33m,\u001b[0m\u001b[1;36m12\u001b[0m\u001b[1;33m)\u001b[0m\u001b[1;33m\u001b[0m\u001b[1;33m\u001b[0m\u001b[0m\n\u001b[0;32m      3\u001b[0m \u001b[0ma\u001b[0m\u001b[1;33m.\u001b[0m\u001b[0mreshape\u001b[0m\u001b[1;33m(\u001b[0m\u001b[1;36m3\u001b[0m\u001b[1;33m,\u001b[0m\u001b[1;36m4\u001b[0m\u001b[1;33m)\u001b[0m\u001b[1;33m\u001b[0m\u001b[1;33m\u001b[0m\u001b[0m\n\u001b[1;32m----> 4\u001b[1;33m \u001b[0ma\u001b[0m\u001b[1;33m.\u001b[0m\u001b[0mreshape\u001b[0m\u001b[1;33m(\u001b[0m\u001b[1;33m-\u001b[0m\u001b[1;36m1\u001b[0m\u001b[1;33m,\u001b[0m\u001b[1;36m5\u001b[0m\u001b[1;33m)\u001b[0m \u001b[1;31m#-1 row ya column ki jagah desktay hain system khud hi decide krta hai k kitni rows/columns ayengay aur ager na aye tou error aayega! xD\u001b[0m\u001b[1;33m\u001b[0m\u001b[1;33m\u001b[0m\u001b[0m\n\u001b[0m\u001b[0;32m      5\u001b[0m \u001b[0ma\u001b[0m\u001b[1;33m\u001b[0m\u001b[1;33m\u001b[0m\u001b[0m\n",
      "\u001b[1;31mValueError\u001b[0m: cannot reshape array of size 12 into shape (5)"
     ]
    }
   ],
   "source": [
    "import numpy as np\n",
    "a = np.random.randint(1,51,12)\n",
    "a.reshape(3,4)\n",
    "a.reshape(-1,5) #-1 row ya column ki jagah desktay hain system khud hi decide krta hai k kitni rows/columns ayengay aur ager na aye tou error aayega! xD\n",
    "a"
   ]
  },
  {
   "cell_type": "code",
   "execution_count": null,
   "id": "447da1a4",
   "metadata": {},
   "outputs": [],
   "source": []
  }
 ],
 "metadata": {
  "kernelspec": {
   "display_name": "Python 3 (ipykernel)",
   "language": "python",
   "name": "python3"
  },
  "language_info": {
   "codemirror_mode": {
    "name": "ipython",
    "version": 3
   },
   "file_extension": ".py",
   "mimetype": "text/x-python",
   "name": "python",
   "nbconvert_exporter": "python",
   "pygments_lexer": "ipython3",
   "version": "3.9.7"
  }
 },
 "nbformat": 4,
 "nbformat_minor": 5
}
