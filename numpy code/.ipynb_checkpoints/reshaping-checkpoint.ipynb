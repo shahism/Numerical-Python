{
 "cells": [
  {
   "cell_type": "code",
   "execution_count": 14,
   "id": "97d9eea7",
   "metadata": {},
   "outputs": [
    {
     "data": {
      "text/plain": [
       "array([[[11,  1],\n",
       "        [44, 21],\n",
       "        [26, 17]],\n",
       "\n",
       "       [[40, 23],\n",
       "        [21, 12],\n",
       "        [19, 14]]])"
      ]
     },
     "execution_count": 14,
     "metadata": {},
     "output_type": "execute_result"
    }
   ],
   "source": [
    "import numpy as np\n",
    "a = np.random.randint(1,51,12)\n",
    "a.shape #it will print the shape\n",
    "# a = np.random.rand(2,3)\n",
    "# a.shape will print (2,3)\n",
    "# reshaping jo hai wo 1D array se 2D aur 2D se 1D main jaanay ka naam hai\n",
    "# a.reshape(2,3) #error dega as reshaping main jo args dene hain unka multiplication same hona chahiay shape se \n",
    "# 2*3 = 6 hai 123 nhi error ayega \n",
    "\n",
    "a.reshape(2,6)\n",
    "a.reshape(6,2)\n",
    "a.reshape(3,4)\n",
    "a.reshape(4,3)\n",
    "\n",
    "# all are valid\n",
    "\n",
    "# now we will go from a Matrix (2D array) to Vector (1D Array)\n",
    "\n",
    "a.reshape(12)\n",
    "\n",
    "# now we will go from a Vector(1D array ) to a Tensor(3D array)\n",
    "a.reshape(2,3,2)\n",
    "\n"
   ]
  },
  {
   "cell_type": "code",
   "execution_count": 16,
   "id": "1a95ca9e",
   "metadata": {},
   "outputs": [
    {
     "data": {
      "text/plain": [
       "array([21, 24, 38, 10, 14, 36, 14,  1, 40, 22, 42, 16])"
      ]
     },
     "execution_count": 16,
     "metadata": {},
     "output_type": "execute_result"
    }
   ],
   "source": [
    "import numpy as np\n",
    "a = np.random.randint(1,51,12)\n",
    "a.reshape(3,4)\n",
    "a.reshape(-1,3) #-1 row ya column ki jagah desktay hain system khud hi decide krta hai k kitni rows/columns ayengay aur ager na aye tou error aayega! xD\n",
    "a"
   ]
  },
  {
   "cell_type": "code",
   "execution_count": null,
   "id": "7c1aa0fc",
   "metadata": {},
   "outputs": [],
   "source": []
  }
 ],
 "metadata": {
  "kernelspec": {
   "display_name": "Python 3 (ipykernel)",
   "language": "python",
   "name": "python3"
  },
  "language_info": {
   "codemirror_mode": {
    "name": "ipython",
    "version": 3
   },
   "file_extension": ".py",
   "mimetype": "text/x-python",
   "name": "python",
   "nbconvert_exporter": "python",
   "pygments_lexer": "ipython3",
   "version": "3.9.7"
  }
 },
 "nbformat": 4,
 "nbformat_minor": 5
}
