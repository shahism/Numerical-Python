{
 "cells": [
  {
   "cell_type": "code",
   "execution_count": 5,
   "id": "f11d8efe",
   "metadata": {},
   "outputs": [
    {
     "data": {
      "text/plain": [
       "array([1, 2, 3, 4, 5, 6, 7, 8])"
      ]
     },
     "execution_count": 5,
     "metadata": {},
     "output_type": "execute_result"
    }
   ],
   "source": [
    "import numpy as np\n",
    "arr1 = np.array([1,2,3,4])\n",
    "arr2 = np.array([5,6,7,8])\n",
    "np.hstack((arr1,arr2)) #pehli array tou aisay hi ayegi , second array ko horizontally stack krdega"
   ]
  },
  {
   "cell_type": "code",
   "execution_count": 6,
   "id": "3f023449",
   "metadata": {},
   "outputs": [
    {
     "data": {
      "text/plain": [
       "array([[1, 2, 3, 4],\n",
       "       [5, 6, 7, 8]])"
      ]
     },
     "execution_count": 6,
     "metadata": {},
     "output_type": "execute_result"
    }
   ],
   "source": [
    "import numpy as np\n",
    "arr1 = np.array([1,2,3,4])\n",
    "arr2 = np.array([5,6,7,8])\n",
    "np.vstack((arr1,arr2)) #pehli array tou aisay hi ayegi , second array ko vertically stack krdega wrt to first one "
   ]
  },
  {
   "cell_type": "code",
   "execution_count": 7,
   "id": "3a728b6c",
   "metadata": {},
   "outputs": [
    {
     "data": {
      "text/plain": [
       "array([[14,  3,  3, 68, 66, 60],\n",
       "       [ 7, 18, 20, 51, 65, 51],\n",
       "       [11,  2,  1, 66, 70, 65]])"
      ]
     },
     "execution_count": 7,
     "metadata": {},
     "output_type": "execute_result"
    }
   ],
   "source": [
    "#yeh saara kaam 2D array (matrix) main bhi hoskta hai.\n",
    "import numpy as np\n",
    "np.random.seed(123)\n",
    "arr3 = np.random.randint(1,21,9).reshape(3,3)\n",
    "arr4 = np.random.randint(51,71,9).reshape(3,3)\n",
    "np.hstack((arr3,arr4))"
   ]
  },
  {
   "cell_type": "code",
   "execution_count": 8,
   "id": "e8a97fb3",
   "metadata": {},
   "outputs": [
    {
     "data": {
      "text/plain": [
       "array([[14,  3,  3],\n",
       "       [ 7, 18, 20],\n",
       "       [11,  2,  1],\n",
       "       [68, 66, 60],\n",
       "       [51, 65, 51],\n",
       "       [66, 70, 65]])"
      ]
     },
     "execution_count": 8,
     "metadata": {},
     "output_type": "execute_result"
    }
   ],
   "source": [
    "import numpy as np\n",
    "np.random.seed(123)\n",
    "arr3 = np.random.randint(1,21,9).reshape(3,3)\n",
    "arr4 = np.random.randint(51,71,9).reshape(3,3)\n",
    "np.vstack((arr3,arr4))"
   ]
  }
 ],
 "metadata": {
  "kernelspec": {
   "display_name": "Python 3 (ipykernel)",
   "language": "python",
   "name": "python3"
  },
  "language_info": {
   "codemirror_mode": {
    "name": "ipython",
    "version": 3
   },
   "file_extension": ".py",
   "mimetype": "text/x-python",
   "name": "python",
   "nbconvert_exporter": "python",
   "pygments_lexer": "ipython3",
   "version": "3.9.7"
  }
 },
 "nbformat": 4,
 "nbformat_minor": 5
}
