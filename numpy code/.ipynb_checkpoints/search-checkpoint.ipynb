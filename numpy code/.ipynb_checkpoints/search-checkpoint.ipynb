{
 "cells": [
  {
   "cell_type": "code",
   "execution_count": 2,
   "id": "f4986d94",
   "metadata": {},
   "outputs": [
    {
     "data": {
      "text/plain": [
       "(array([4, 8, 9], dtype=int64),)"
      ]
     },
     "execution_count": 2,
     "metadata": {},
     "output_type": "execute_result"
    }
   ],
   "source": [
    "import numpy as np\n",
    "arr = np.array([1,2,3,4,5,6,8,9,5,5])\n",
    "x = np.where(arr==5)\n",
    "x #jahan jahan array hoga 5 unka indexes aik array main return krdega"
   ]
  },
  {
   "cell_type": "code",
   "execution_count": 4,
   "id": "eb75bd62",
   "metadata": {},
   "outputs": [
    {
     "data": {
      "text/plain": [
       "1"
      ]
     },
     "execution_count": 4,
     "metadata": {},
     "output_type": "execute_result"
    }
   ],
   "source": [
    "#searchsorted method --> binary search perform krta hai yani sorted array per hoga yeh aur index return krta hai k kis index per apki vaLUE INSERT HOGI \n",
    "import numpy as np\n",
    "arr = np.array([1,3,4,7,8,9])\n",
    "x = np.searchsorted(arr,2)\n",
    "x"
   ]
  },
  {
   "cell_type": "code",
   "execution_count": 5,
   "id": "f3f4fa1c",
   "metadata": {},
   "outputs": [
    {
     "data": {
      "text/plain": [
       "1"
      ]
     },
     "execution_count": 5,
     "metadata": {},
     "output_type": "execute_result"
    }
   ],
   "source": [
    "# isko hum right side se bhi krskte hain farq koi nhi parega..\n",
    "import numpy as np\n",
    "arr = np.array([1,3,4,7,8,9])\n",
    "x = np.searchsorted(arr,2,side='right')\n",
    "x"
   ]
  }
 ],
 "metadata": {
  "kernelspec": {
   "display_name": "Python 3 (ipykernel)",
   "language": "python",
   "name": "python3"
  },
  "language_info": {
   "codemirror_mode": {
    "name": "ipython",
    "version": 3
   },
   "file_extension": ".py",
   "mimetype": "text/x-python",
   "name": "python",
   "nbconvert_exporter": "python",
   "pygments_lexer": "ipython3",
   "version": "3.9.7"
  }
 },
 "nbformat": 4,
 "nbformat_minor": 5
}
