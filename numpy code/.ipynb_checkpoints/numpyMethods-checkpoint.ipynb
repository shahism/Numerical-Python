{
 "cells": [
  {
   "cell_type": "code",
   "execution_count": 3,
   "id": "bcde608e",
   "metadata": {},
   "outputs": [
    {
     "data": {
      "text/plain": [
       "array([[0., 0., 0.],\n",
       "       [0., 0., 0.]])"
      ]
     },
     "execution_count": 3,
     "metadata": {},
     "output_type": "execute_result"
    }
   ],
   "source": [
    "import numpy as np\n",
    "myArr = np.zeros(5) #zeros 1D (vector)\n",
    "myArr2 = np.zeros((2,3)) #zeros 2D --> ismay coordinate dete hain 2,3 means 2 rows 3 columns (matrix)\n",
    "myArr\n",
    "myArr2"
   ]
  },
  {
   "cell_type": "code",
   "execution_count": 6,
   "id": "bb7f4a09",
   "metadata": {},
   "outputs": [
    {
     "data": {
      "text/plain": [
       "array([[1.],\n",
       "       [1.],\n",
       "       [1.],\n",
       "       [1.]])"
      ]
     },
     "execution_count": 6,
     "metadata": {},
     "output_type": "execute_result"
    }
   ],
   "source": [
    "import numpy as np\n",
    "myArr = np.ones(5) #ones 1D (vector)\n",
    "myArr2 = np.ones((4,1)) #zeros 2D --> (matrix of 4,1 order)\n",
    "myArr\n",
    "myArr2"
   ]
  },
  {
   "cell_type": "code",
   "execution_count": 9,
   "id": "9c331c43",
   "metadata": {},
   "outputs": [
    {
     "data": {
      "text/plain": [
       "array([[1., 0., 0., 0.],\n",
       "       [0., 1., 0., 0.],\n",
       "       [0., 0., 1., 0.]])"
      ]
     },
     "execution_count": 9,
     "metadata": {},
     "output_type": "execute_result"
    }
   ],
   "source": [
    "import numpy as np\n",
    "myArr = np.eye(5) #eye method aik identity matrix (jiska principal diagonal 1 houta hai aur baaki elements zero houtay hain return karega)\n",
    "# identity matrix aik square matrix houta hai tou 5 ka mtlb 5,5 5X5 hoga..\n",
    "\n",
    "myArr\n",
    "# but eye is beyond the limits of square matrix so ager irregular yani rectangular matrix dia jayega tou jahan tk banega diagonal wahan tk 1's ayengay aagay zeros\n",
    "\n",
    "myArr2 = np.eye(3,4)\n",
    "myArr2"
   ]
  },
  {
   "cell_type": "code",
   "execution_count": 11,
   "id": "1095bf0c",
   "metadata": {},
   "outputs": [
    {
     "data": {
      "text/plain": [
       "array([[1, 0, 0, 0],\n",
       "       [0, 2, 0, 0],\n",
       "       [0, 0, 3, 0],\n",
       "       [0, 0, 0, 4]])"
      ]
     },
     "execution_count": 11,
     "metadata": {},
     "output_type": "execute_result"
    }
   ],
   "source": [
    "import numpy as np\n",
    "myArr = np.diag([1,2,3,4]) #diag --> aik matrix(2D array) return krta hai jo aik 1d array(vector) expect krta hai is ko principal diagonal banata hai aur return krta hai diagonal matrix\n",
    "myArr"
   ]
  },
  {
   "cell_type": "code",
   "execution_count": 14,
   "id": "be4f9ed2",
   "metadata": {},
   "outputs": [
    {
     "data": {
      "text/plain": [
       "array([4, 4, 5])"
      ]
     },
     "execution_count": 14,
     "metadata": {},
     "output_type": "execute_result"
    }
   ],
   "source": [
    "import numpy as np\n",
    "myArr = np.random.randint(1,10,3) #random.randint(startingRange,endingrange+1,noOfValuesyouWantInArray)\n",
    "myArr"
   ]
  },
  {
   "cell_type": "code",
   "execution_count": 18,
   "id": "20d4924a",
   "metadata": {},
   "outputs": [
    {
     "data": {
      "text/plain": [
       "array([[0.5010438 , 0.75003971, 0.54159937, 0.24655536],\n",
       "       [0.6449142 , 0.64876173, 0.19732856, 0.13080946],\n",
       "       [0.09659713, 0.32023157, 0.83885929, 0.87659828]])"
      ]
     },
     "execution_count": 18,
     "metadata": {},
     "output_type": "execute_result"
    }
   ],
   "source": [
    "import numpy as np\n",
    "myArr = np.random.rand(5) #yeh 0-1 k darmiyaan koi value return krta hai each index k liayy jese yahan 0-1 k darmiyaan 5 values return hongi\n",
    "myArr\n",
    "\n",
    "#isko 2D array k liay bhi kia jaskta hai\n",
    "myArr2 = np.random.rand(3,4) # yahan tuple main nhi dena ! remember it!\n",
    "myArr2"
   ]
  },
  {
   "cell_type": "code",
   "execution_count": 20,
   "id": "d48730c4",
   "metadata": {},
   "outputs": [
    {
     "data": {
      "text/plain": [
       "array([-0.2614886 ,  0.77230177,  0.27600912, -0.79321874,  0.42326923])"
      ]
     },
     "execution_count": 20,
     "metadata": {},
     "output_type": "execute_result"
    }
   ],
   "source": [
    "import numpy as np\n",
    "myArr = np.random.randn(5)\n",
    "# random.randn return krta hai 0 se qareeb qareeb values jo positive and negative dono hoskti hain.\n",
    "myArr"
   ]
  }
 ],
 "metadata": {
  "kernelspec": {
   "display_name": "Python 3 (ipykernel)",
   "language": "python",
   "name": "python3"
  },
  "language_info": {
   "codemirror_mode": {
    "name": "ipython",
    "version": 3
   },
   "file_extension": ".py",
   "mimetype": "text/x-python",
   "name": "python",
   "nbconvert_exporter": "python",
   "pygments_lexer": "ipython3",
   "version": "3.9.7"
  }
 },
 "nbformat": 4,
 "nbformat_minor": 5
}
